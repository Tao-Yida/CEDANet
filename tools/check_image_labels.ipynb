{
 "cells": [
  {
   "cell_type": "markdown",
   "id": "8e6c365c",
   "metadata": {},
   "source": [
    "# Check Test Images and Annotations\n",
    "This notebook counts test folder images and annotated images from JSON, and lists images without smoke labels."
   ]
  },
  {
   "cell_type": "code",
   "execution_count": 17,
   "id": "990d2ef4",
   "metadata": {},
   "outputs": [],
   "source": [
    "import os\n",
    "import json\n",
    "from collections import defaultdict"
   ]
  },
  {
   "cell_type": "code",
   "execution_count": 18,
   "id": "044007e3",
   "metadata": {},
   "outputs": [],
   "source": [
    "# Define paths\n",
    "test_dir = os.path.join('..','smoke-segmentation.v5i.coco-segmentation','test')\n",
    "json_path = os.path.join('..','smoke-segmentation.v5i.coco-segmentation','image_level_labels.json')"
   ]
  },
  {
   "cell_type": "code",
   "execution_count": 19,
   "id": "1672c79b",
   "metadata": {},
   "outputs": [
    {
     "name": "stdout",
     "output_type": "stream",
     "text": [
      "Successfully loaded 900 records from ../smoke-segmentation.v5i.coco-segmentation/image_level_labels.json\n"
     ]
    }
   ],
   "source": [
    "# Load annotations from JSON\n",
    "try:\n",
    "    with open(json_path, 'r') as f:\n",
    "        data = json.load(f)\n",
    "    print(f\"Successfully loaded {len(data)} records from {json_path}\")\n",
    "except FileNotFoundError:\n",
    "    print(f\"Error: JSON file not found at {json_path}\")\n",
    "    data = []\n",
    "except json.JSONDecodeError:\n",
    "    print(f\"Error: Could not decode JSON from {json_path}\")\n",
    "    data = []"
   ]
  },
  {
   "cell_type": "code",
   "execution_count": 20,
   "id": "a5ea7751",
   "metadata": {},
   "outputs": [
    {
     "name": "stdout",
     "output_type": "stream",
     "text": [
      "defaultdict(<class 'int'>, {'only_1_and_2': 90, 'only_1': 582, 'only_2': 221, 'only_0': 7})\n"
     ]
    }
   ],
   "source": [
    "# Initialize counters for each category\n",
    "category_counts = defaultdict(int)\n",
    "category_files = defaultdict(list) # Optional: to store filenames per category\n",
    "\n",
    "# Define label strings\n",
    "label_0 = 'no-smoke'\n",
    "label_1 = 'low-opacity-smoke'\n",
    "label_2 = 'high-opacity-smoke'\n",
    "\n",
    "# Iterate through JSON data and categorize images\n",
    "for item in data:\n",
    "    # Ensure 'labels' exists and is a list/set, default to empty set if missing\n",
    "    labels = set(item.get('labels', []))\n",
    "    file_name = item.get('file_name', 'UnknownFile') # Get filename for optional listing\n",
    "\n",
    "    # Check for specific label combinations\n",
    "    has_0 = label_0 in labels\n",
    "    has_1 = label_1 in labels\n",
    "    has_2 = label_2 in labels\n",
    "\n",
    "    # Categorize based on the presence of labels 1 and 2 first\n",
    "    if has_1 and has_2:\n",
    "        category_counts['only_1_and_2'] += 1\n",
    "        category_files['only_1_and_2'].append(file_name)\n",
    "    elif has_1: # Only label 1 (and not 2, because the previous condition failed)\n",
    "        category_counts['only_1'] += 1\n",
    "        category_files['only_1'].append(file_name)\n",
    "    elif has_2: # Only label 2 (and not 1)\n",
    "        category_counts['only_2'] += 1\n",
    "        category_files['only_2'].append(file_name)\n",
    "    elif has_0: # Only label 0 (and not 1 or 2)\n",
    "        # This assumes 'no-smoke' won't coexist with smoke labels 1 or 2 in your dataset.\n",
    "        # If it can, you might need to adjust the logic based on priority.\n",
    "        category_counts['only_0'] += 1\n",
    "        category_files['only_0'].append(file_name)\n",
    "    else:\n",
    "        # Count images with no relevant labels (0, 1, or 2) or empty labels list\n",
    "        category_counts['other_or_no_labels'] += 1\n",
    "        category_files['other_or_no_labels'].append(file_name)\n",
    "\n",
    "print(category_counts)"
   ]
  },
  {
   "cell_type": "code",
   "execution_count": null,
   "id": "7cd3bde7",
   "metadata": {},
   "outputs": [],
   "source": []
  }
 ],
 "metadata": {
  "kernelspec": {
   "display_name": "dl2024",
   "language": "python",
   "name": "python3"
  },
  "language_info": {
   "codemirror_mode": {
    "name": "ipython",
    "version": 3
   },
   "file_extension": ".py",
   "mimetype": "text/x-python",
   "name": "python",
   "nbconvert_exporter": "python",
   "pygments_lexer": "ipython3",
   "version": "3.9.21"
  }
 },
 "nbformat": 4,
 "nbformat_minor": 5
}
