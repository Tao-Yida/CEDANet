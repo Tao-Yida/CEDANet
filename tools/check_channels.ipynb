{
 "cells": [
  {
   "cell_type": "code",
   "execution_count": 1,
   "id": "0836531f",
   "metadata": {},
   "outputs": [],
   "source": [
    "#读取一张图片，返回其通道数\n",
    "\n",
    "import cv2\n",
    "import numpy as np\n",
    "import matplotlib.pyplot as plt\n",
    "import os\n",
    "import sys\n"
   ]
  },
  {
   "cell_type": "code",
   "execution_count": 2,
   "id": "010ae82d",
   "metadata": {},
   "outputs": [],
   "source": [
    "image_data = cv2.imread('../smoke-segmentation.v5i.coco-segmentation/test/hoogovens_6_7__2024-11-12T13-44-03Z_frame_3489_jpg.rf.13ccdc5b8c841ba9d53b93e9ff9499c0.jpg')"
   ]
  },
  {
   "cell_type": "code",
   "execution_count": 7,
   "id": "4f52f0f2",
   "metadata": {},
   "outputs": [
    {
     "name": "stdout",
     "output_type": "stream",
     "text": [
      "图片的通道数: 3\n",
      "图片的尺寸: (1080, 1920, 3)\n"
     ]
    }
   ],
   "source": [
    "# 获取图片的通道数\n",
    "channels = image_data.shape[2] if len(image_data.shape) == 3 else 1\n",
    "print(f\"图片的通道数: {channels}\")\n",
    "print(f\"图片的尺寸: {image_data.shape}\")"
   ]
  },
  {
   "cell_type": "code",
   "execution_count": null,
   "id": "14302be5",
   "metadata": {},
   "outputs": [],
   "source": []
  }
 ],
 "metadata": {
  "kernelspec": {
   "display_name": "dl2024",
   "language": "python",
   "name": "python3"
  },
  "language_info": {
   "codemirror_mode": {
    "name": "ipython",
    "version": 3
   },
   "file_extension": ".py",
   "mimetype": "text/x-python",
   "name": "python",
   "nbconvert_exporter": "python",
   "pygments_lexer": "ipython3",
   "version": "3.9.21"
  }
 },
 "nbformat": 4,
 "nbformat_minor": 5
}
